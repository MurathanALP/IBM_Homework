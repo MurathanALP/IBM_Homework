{
 "cells": [
  {
   "cell_type": "markdown",
   "id": "d35ee003",
   "metadata": {},
   "source": [
    "# Data Science Tools and Ecosystem"
   ]
  },
  {
   "cell_type": "markdown",
   "id": "f7595abf",
   "metadata": {},
   "source": [
    "**In this notebook, This is expressing the data science tools in a beginnary level**"
   ]
  },
  {
   "cell_type": "markdown",
   "id": "fa906e2a",
   "metadata": {},
   "source": [
    "# OBJECTIVES: ##\n",
    "\n",
    "* Python\n",
    "* Julia\n",
    "* Spark\n",
    "* SQL\n",
    "* R"
   ]
  },
  {
   "cell_type": "markdown",
   "id": "79853f29",
   "metadata": {},
   "source": [
    "# Some of the popular languages that Data Scientists use are:"
   ]
  },
  {
   "cell_type": "markdown",
   "id": "325dc8f7",
   "metadata": {},
   "source": [
    " 1. Pyhton\n",
    " 2. R\n",
    " 3. SQL\n",
    " 4. Excel\n",
    " 5. Julia\n",
    " 6. Hadoop\n",
    " 7. Spark"
   ]
  },
  {
   "cell_type": "markdown",
   "id": "65999f80",
   "metadata": {},
   "source": [
    "# Some of the commonly used libraries used by Data Scientists include:"
   ]
  },
  {
   "cell_type": "markdown",
   "id": "127b88f5",
   "metadata": {},
   "source": [
    "* Matplotlib\n",
    "* NumPy\n",
    "* Pandas\n",
    "* Seaborn\n",
    "* TenserFlow\n",
    "* ggplot2\n"
   ]
  },
  {
   "cell_type": "markdown",
   "id": "56e0d29d",
   "metadata": {},
   "source": [
    "| Data Science Tools |\n",
    "---\n",
    "| Visual Studio Code |\n",
    "| PyCharm |\n",
    "| Spyeder |"
   ]
  },
  {
   "cell_type": "markdown",
   "id": "dcff271b",
   "metadata": {},
   "source": [
    "### Below are a few examples of evaluating arithmetic expressions in Python."
   ]
  },
  {
   "cell_type": "code",
   "execution_count": 7,
   "id": "c60c6be8",
   "metadata": {},
   "outputs": [
    {
     "data": {
      "text/plain": [
       "2.0"
      ]
     },
     "execution_count": 7,
     "metadata": {},
     "output_type": "execute_result"
    }
   ],
   "source": [
    "8/4"
   ]
  },
  {
   "cell_type": "code",
   "execution_count": 9,
   "id": "1e653801",
   "metadata": {},
   "outputs": [
    {
     "data": {
      "text/plain": [
       "17.75"
      ]
     },
     "execution_count": 9,
     "metadata": {},
     "output_type": "execute_result"
    }
   ],
   "source": [
    "#This a simple arithmetic expression to mutiply then add integers.\n",
    "(23+6)-9*5/4"
   ]
  },
  {
   "cell_type": "code",
   "execution_count": 12,
   "id": "d78b8569",
   "metadata": {},
   "outputs": [
    {
     "name": "stdout",
     "output_type": "stream",
     "text": [
      "3.3333333333333335\n"
     ]
    }
   ],
   "source": [
    "# it converts minutes to hours. For example for 200 minute.\n",
    "minute = 200\n",
    "hours = minute/60\n",
    "print(hours)"
   ]
  },
  {
   "cell_type": "markdown",
   "id": "20f78239",
   "metadata": {},
   "source": [
    "## AUTHOR\n",
    "\n",
    "--- Murathan ALP ---"
   ]
  },
  {
   "cell_type": "code",
   "execution_count": null,
   "id": "03b5baab",
   "metadata": {},
   "outputs": [],
   "source": []
  }
 ],
 "metadata": {
  "kernelspec": {
   "display_name": "Python 3 (ipykernel)",
   "language": "python",
   "name": "python3"
  },
  "language_info": {
   "codemirror_mode": {
    "name": "ipython",
    "version": 3
   },
   "file_extension": ".py",
   "mimetype": "text/x-python",
   "name": "python",
   "nbconvert_exporter": "python",
   "pygments_lexer": "ipython3",
   "version": "3.10.9"
  }
 },
 "nbformat": 4,
 "nbformat_minor": 5
}
